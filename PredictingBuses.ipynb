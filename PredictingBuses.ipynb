{
  "cells": [
    {
      "cell_type": "code",
      "execution_count": null,
      "metadata": {
        "id": "8TsX2HmZFYf_"
      },
      "outputs": [],
      "source": [
        "import pandas as pd\n",
        "import math\n",
        "import datetime\n",
        "import statistics\n",
        "import numpy as np\n",
        "import matplotlib.pyplot as plt\n",
        "import datetime\n",
        "from collections import defaultdict\n",
        "from collections import OrderedDict\n",
        "from matplotlib.dates import DateFormatter"
      ]
    },
    {
      "cell_type": "code",
      "execution_count": null,
      "metadata": {
        "id": "hxmQKnvKFzS-",
        "outputId": "f7fb9b5d-d582-4e7a-e1d3-b573efba2913",
        "colab": {
          "base_uri": "https://localhost:8080/",
          "height": 321
        }
      },
      "outputs": [
        {
          "output_type": "error",
          "ename": "FileNotFoundError",
          "evalue": "ignored",
          "traceback": [
            "\u001b[0;31m---------------------------------------------------------------------------\u001b[0m",
            "\u001b[0;31mFileNotFoundError\u001b[0m                         Traceback (most recent call last)",
            "\u001b[0;32m<ipython-input-2-517a069c8541>\u001b[0m in \u001b[0;36m<cell line: 1>\u001b[0;34m()\u001b[0m\n\u001b[0;32m----> 1\u001b[0;31m \u001b[0mdata\u001b[0m \u001b[0;34m=\u001b[0m \u001b[0mpd\u001b[0m\u001b[0;34m.\u001b[0m\u001b[0mread_excel\u001b[0m\u001b[0;34m(\u001b[0m\u001b[0;34m\"/content/rout.xlsx\"\u001b[0m\u001b[0;34m)\u001b[0m\u001b[0;34m\u001b[0m\u001b[0;34m\u001b[0m\u001b[0m\n\u001b[0m",
            "\u001b[0;32m/usr/local/lib/python3.10/dist-packages/pandas/util/_decorators.py\u001b[0m in \u001b[0;36mwrapper\u001b[0;34m(*args, **kwargs)\u001b[0m\n\u001b[1;32m    209\u001b[0m                 \u001b[0;32melse\u001b[0m\u001b[0;34m:\u001b[0m\u001b[0;34m\u001b[0m\u001b[0;34m\u001b[0m\u001b[0m\n\u001b[1;32m    210\u001b[0m                     \u001b[0mkwargs\u001b[0m\u001b[0;34m[\u001b[0m\u001b[0mnew_arg_name\u001b[0m\u001b[0;34m]\u001b[0m \u001b[0;34m=\u001b[0m \u001b[0mnew_arg_value\u001b[0m\u001b[0;34m\u001b[0m\u001b[0;34m\u001b[0m\u001b[0m\n\u001b[0;32m--> 211\u001b[0;31m             \u001b[0;32mreturn\u001b[0m \u001b[0mfunc\u001b[0m\u001b[0;34m(\u001b[0m\u001b[0;34m*\u001b[0m\u001b[0margs\u001b[0m\u001b[0;34m,\u001b[0m \u001b[0;34m**\u001b[0m\u001b[0mkwargs\u001b[0m\u001b[0;34m)\u001b[0m\u001b[0;34m\u001b[0m\u001b[0;34m\u001b[0m\u001b[0m\n\u001b[0m\u001b[1;32m    212\u001b[0m \u001b[0;34m\u001b[0m\u001b[0m\n\u001b[1;32m    213\u001b[0m         \u001b[0;32mreturn\u001b[0m \u001b[0mcast\u001b[0m\u001b[0;34m(\u001b[0m\u001b[0mF\u001b[0m\u001b[0;34m,\u001b[0m \u001b[0mwrapper\u001b[0m\u001b[0;34m)\u001b[0m\u001b[0;34m\u001b[0m\u001b[0;34m\u001b[0m\u001b[0m\n",
            "\u001b[0;32m/usr/local/lib/python3.10/dist-packages/pandas/util/_decorators.py\u001b[0m in \u001b[0;36mwrapper\u001b[0;34m(*args, **kwargs)\u001b[0m\n\u001b[1;32m    329\u001b[0m                     \u001b[0mstacklevel\u001b[0m\u001b[0;34m=\u001b[0m\u001b[0mfind_stack_level\u001b[0m\u001b[0;34m(\u001b[0m\u001b[0;34m)\u001b[0m\u001b[0;34m,\u001b[0m\u001b[0;34m\u001b[0m\u001b[0;34m\u001b[0m\u001b[0m\n\u001b[1;32m    330\u001b[0m                 )\n\u001b[0;32m--> 331\u001b[0;31m             \u001b[0;32mreturn\u001b[0m \u001b[0mfunc\u001b[0m\u001b[0;34m(\u001b[0m\u001b[0;34m*\u001b[0m\u001b[0margs\u001b[0m\u001b[0;34m,\u001b[0m \u001b[0;34m**\u001b[0m\u001b[0mkwargs\u001b[0m\u001b[0;34m)\u001b[0m\u001b[0;34m\u001b[0m\u001b[0;34m\u001b[0m\u001b[0m\n\u001b[0m\u001b[1;32m    332\u001b[0m \u001b[0;34m\u001b[0m\u001b[0m\n\u001b[1;32m    333\u001b[0m         \u001b[0;31m# error: \"Callable[[VarArg(Any), KwArg(Any)], Any]\" has no\u001b[0m\u001b[0;34m\u001b[0m\u001b[0;34m\u001b[0m\u001b[0m\n",
            "\u001b[0;32m/usr/local/lib/python3.10/dist-packages/pandas/io/excel/_base.py\u001b[0m in \u001b[0;36mread_excel\u001b[0;34m(io, sheet_name, header, names, index_col, usecols, squeeze, dtype, engine, converters, true_values, false_values, skiprows, nrows, na_values, keep_default_na, na_filter, verbose, parse_dates, date_parser, thousands, decimal, comment, skipfooter, convert_float, mangle_dupe_cols, storage_options)\u001b[0m\n\u001b[1;32m    480\u001b[0m     \u001b[0;32mif\u001b[0m \u001b[0;32mnot\u001b[0m \u001b[0misinstance\u001b[0m\u001b[0;34m(\u001b[0m\u001b[0mio\u001b[0m\u001b[0;34m,\u001b[0m \u001b[0mExcelFile\u001b[0m\u001b[0;34m)\u001b[0m\u001b[0;34m:\u001b[0m\u001b[0;34m\u001b[0m\u001b[0;34m\u001b[0m\u001b[0m\n\u001b[1;32m    481\u001b[0m         \u001b[0mshould_close\u001b[0m \u001b[0;34m=\u001b[0m \u001b[0;32mTrue\u001b[0m\u001b[0;34m\u001b[0m\u001b[0;34m\u001b[0m\u001b[0m\n\u001b[0;32m--> 482\u001b[0;31m         \u001b[0mio\u001b[0m \u001b[0;34m=\u001b[0m \u001b[0mExcelFile\u001b[0m\u001b[0;34m(\u001b[0m\u001b[0mio\u001b[0m\u001b[0;34m,\u001b[0m \u001b[0mstorage_options\u001b[0m\u001b[0;34m=\u001b[0m\u001b[0mstorage_options\u001b[0m\u001b[0;34m,\u001b[0m \u001b[0mengine\u001b[0m\u001b[0;34m=\u001b[0m\u001b[0mengine\u001b[0m\u001b[0;34m)\u001b[0m\u001b[0;34m\u001b[0m\u001b[0;34m\u001b[0m\u001b[0m\n\u001b[0m\u001b[1;32m    483\u001b[0m     \u001b[0;32melif\u001b[0m \u001b[0mengine\u001b[0m \u001b[0;32mand\u001b[0m \u001b[0mengine\u001b[0m \u001b[0;34m!=\u001b[0m \u001b[0mio\u001b[0m\u001b[0;34m.\u001b[0m\u001b[0mengine\u001b[0m\u001b[0;34m:\u001b[0m\u001b[0;34m\u001b[0m\u001b[0;34m\u001b[0m\u001b[0m\n\u001b[1;32m    484\u001b[0m         raise ValueError(\n",
            "\u001b[0;32m/usr/local/lib/python3.10/dist-packages/pandas/io/excel/_base.py\u001b[0m in \u001b[0;36m__init__\u001b[0;34m(self, path_or_buffer, engine, storage_options)\u001b[0m\n\u001b[1;32m   1650\u001b[0m                 \u001b[0mext\u001b[0m \u001b[0;34m=\u001b[0m \u001b[0;34m\"xls\"\u001b[0m\u001b[0;34m\u001b[0m\u001b[0;34m\u001b[0m\u001b[0m\n\u001b[1;32m   1651\u001b[0m             \u001b[0;32melse\u001b[0m\u001b[0;34m:\u001b[0m\u001b[0;34m\u001b[0m\u001b[0;34m\u001b[0m\u001b[0m\n\u001b[0;32m-> 1652\u001b[0;31m                 ext = inspect_excel_format(\n\u001b[0m\u001b[1;32m   1653\u001b[0m                     \u001b[0mcontent_or_path\u001b[0m\u001b[0;34m=\u001b[0m\u001b[0mpath_or_buffer\u001b[0m\u001b[0;34m,\u001b[0m \u001b[0mstorage_options\u001b[0m\u001b[0;34m=\u001b[0m\u001b[0mstorage_options\u001b[0m\u001b[0;34m\u001b[0m\u001b[0;34m\u001b[0m\u001b[0m\n\u001b[1;32m   1654\u001b[0m                 )\n",
            "\u001b[0;32m/usr/local/lib/python3.10/dist-packages/pandas/io/excel/_base.py\u001b[0m in \u001b[0;36minspect_excel_format\u001b[0;34m(content_or_path, storage_options)\u001b[0m\n\u001b[1;32m   1523\u001b[0m         \u001b[0mcontent_or_path\u001b[0m \u001b[0;34m=\u001b[0m \u001b[0mBytesIO\u001b[0m\u001b[0;34m(\u001b[0m\u001b[0mcontent_or_path\u001b[0m\u001b[0;34m)\u001b[0m\u001b[0;34m\u001b[0m\u001b[0;34m\u001b[0m\u001b[0m\n\u001b[1;32m   1524\u001b[0m \u001b[0;34m\u001b[0m\u001b[0m\n\u001b[0;32m-> 1525\u001b[0;31m     with get_handle(\n\u001b[0m\u001b[1;32m   1526\u001b[0m         \u001b[0mcontent_or_path\u001b[0m\u001b[0;34m,\u001b[0m \u001b[0;34m\"rb\"\u001b[0m\u001b[0;34m,\u001b[0m \u001b[0mstorage_options\u001b[0m\u001b[0;34m=\u001b[0m\u001b[0mstorage_options\u001b[0m\u001b[0;34m,\u001b[0m \u001b[0mis_text\u001b[0m\u001b[0;34m=\u001b[0m\u001b[0;32mFalse\u001b[0m\u001b[0;34m\u001b[0m\u001b[0;34m\u001b[0m\u001b[0m\n\u001b[1;32m   1527\u001b[0m     ) as handle:\n",
            "\u001b[0;32m/usr/local/lib/python3.10/dist-packages/pandas/io/common.py\u001b[0m in \u001b[0;36mget_handle\u001b[0;34m(path_or_buf, mode, encoding, compression, memory_map, is_text, errors, storage_options)\u001b[0m\n\u001b[1;32m    863\u001b[0m         \u001b[0;32melse\u001b[0m\u001b[0;34m:\u001b[0m\u001b[0;34m\u001b[0m\u001b[0;34m\u001b[0m\u001b[0m\n\u001b[1;32m    864\u001b[0m             \u001b[0;31m# Binary mode\u001b[0m\u001b[0;34m\u001b[0m\u001b[0;34m\u001b[0m\u001b[0m\n\u001b[0;32m--> 865\u001b[0;31m             \u001b[0mhandle\u001b[0m \u001b[0;34m=\u001b[0m \u001b[0mopen\u001b[0m\u001b[0;34m(\u001b[0m\u001b[0mhandle\u001b[0m\u001b[0;34m,\u001b[0m \u001b[0mioargs\u001b[0m\u001b[0;34m.\u001b[0m\u001b[0mmode\u001b[0m\u001b[0;34m)\u001b[0m\u001b[0;34m\u001b[0m\u001b[0;34m\u001b[0m\u001b[0m\n\u001b[0m\u001b[1;32m    866\u001b[0m         \u001b[0mhandles\u001b[0m\u001b[0;34m.\u001b[0m\u001b[0mappend\u001b[0m\u001b[0;34m(\u001b[0m\u001b[0mhandle\u001b[0m\u001b[0;34m)\u001b[0m\u001b[0;34m\u001b[0m\u001b[0;34m\u001b[0m\u001b[0m\n\u001b[1;32m    867\u001b[0m \u001b[0;34m\u001b[0m\u001b[0m\n",
            "\u001b[0;31mFileNotFoundError\u001b[0m: [Errno 2] No such file or directory: '/content/rout.xlsx'"
          ]
        }
      ],
      "source": [
        "data = pd.read_excel(\"/content/rout.xlsx\")"
      ]
    },
    {
      "cell_type": "code",
      "execution_count": null,
      "metadata": {
        "id": "pXYymHr-s7PO"
      },
      "outputs": [],
      "source": [
        "depot_name = ['Colaba depot','Backbay depot','Mumbai Central depot','Worli depot', 'KalaKilla depot','Wadala depot','Dharavi depot','Dindoshi depot','Kurla depot','Bandra depot','Santacruz depot','Oshiwara depot','Poisar depot','Gorai depot','Malvani depot','Malad depot','Anik depot','Prateeksha Nagar depot','Deonar depot','Shivaji Nagar depot','Ghatkopar depot','Vikhroli depot', 'Magathane depot', 'Mulund depot' ]\n",
        "# 'Majas depot' ,'Goregaon depot',  'Marol depot'\n",
        "def hour_to_str(itime):\n",
        "  tr =  str(math.trunc(itime)) + ':' + str(int(round((itime%1)*300/5)))\n",
        "  itime = math.trunc(itime) + (itime%1)*3/5\n",
        "  s=str(itime)\n",
        "  clean_time = s.replace(\".\",\":\")\n",
        "\n",
        "  if ( math.trunc(itime)<10) :\n",
        "    clean_time = '0'+clean_time\n",
        "    tr = '0' + tr\n",
        "  clean_time  = clean_time[:5]\n",
        "  if (len(clean_time)<5):\n",
        "    clean_time+='0'\n",
        "\n",
        "  return clean_time\n",
        "charging_time_factor = 0.0\n",
        "max_km=200\n",
        "charge_full_time=6\n",
        "\n",
        "def Factor_charging_time(charge_full_time):\n",
        "  sum=0;\n",
        "  for i in range(0,25):\n",
        "      sum+=1/((2*(i/25)) +1.25);\n",
        "  sum+=55/3.25;\n",
        "  for i in range (80,100):\n",
        "      sum+=1/(11.25 - (0.1*i));\n",
        "  return charge_full_time/sum;\n",
        "\n",
        "charging_time_factor = Factor_charging_time(charge_full_time)"
      ]
    },
    {
      "cell_type": "code",
      "source": [
        "depotToBuses = {}\n",
        "depotToBuses = defaultdict(lambda: [], depotToBuses)\n",
        "total_buses = {}\n",
        "total_buses = defaultdict(lambda: 0, total_buses)"
      ],
      "metadata": {
        "id": "sEwSLO0NDC0d"
      },
      "execution_count": null,
      "outputs": []
    },
    {
      "cell_type": "code",
      "execution_count": null,
      "metadata": {
        "id": "r29oNFPEG9yx"
      },
      "outputs": [],
      "source": [
        "for depot in depot_name:\n",
        "  listOfNumBuses = []\n",
        "  for queue_len in [20, 30, 40, 60]:\n",
        "  # total_buses = 0\n",
        "    src = data[(data['Source Depot'] == depot)]\n",
        "    dest = data[(data['Destination Depot'] == depot)]\n",
        "\n",
        "    src.index = [i for i in range(len(src))]\n",
        "    dest.index = [i for i in range(len(dest))]\n",
        "\n",
        "    src_num = src['Bus Number'].count()\n",
        "    dest_num = dest['Bus Number'].count()\n",
        "\n",
        "    src_dict = {}\n",
        "    src_dict = defaultdict(lambda: 0, src_dict)\n",
        "\n",
        "    for i in range(0,src_num):\n",
        "      temp2 = [x.strip() for x in src['Departure From Source'][i].split(',')]\n",
        "      temp2.pop()\n",
        "      for i in temp2:\n",
        "        src_dict[\"{}\".format(i)] += 1\n",
        "\n",
        "    for i in range(0,dest_num):\n",
        "      temp2 = [x.strip() for x in dest['Departure From Destination'][i].split(',')]\n",
        "      temp2.pop()\n",
        "      for i in temp2:\n",
        "        src_dict[\"{}\".format(i)] += 1\n",
        "\n",
        "    src_dict_final = OrderedDict(sorted(src_dict.items()))\n",
        "\n",
        "    bus_queue = []\n",
        "    out_times = []\n",
        "    merged_list = []\n",
        "\n",
        "    def add_to_queue(arr_time, charge_time):\n",
        "      if(len(bus_queue) < queue_len):\n",
        "        bus_queue.append(arr_time + charge_time)\n",
        "      else:\n",
        "        queue_top = bus_queue[0]\n",
        "        out_times.append(hour_to_str(queue_top))\n",
        "        bus_queue.pop(0)\n",
        "        bus_queue.append(max(arr_time, queue_top) + charge_time)\n",
        "      bus_queue.sort()\n",
        "\n",
        "    def precompute_and_queueing(s,distance,max_km,charge_full_time,time_taken):\n",
        "      initial=s\n",
        "      clean_time = s.replace(\":\",\".\")\n",
        "      itime = float(clean_time);\n",
        "      itime = math.trunc(itime) + (itime%1)*5/3\n",
        "      itime += float(time_taken)/60\n",
        "\n",
        "      charge_consumed = distance*100/max_km\n",
        "      time_to_charge=(charge_consumed) * charging_time_factor/3.25\n",
        "\n",
        "      merged_list.append([itime, time_to_charge])\n",
        "      # addToQueue(itime, time_to_charge)\n",
        "\n",
        "    src_num = src['Bus Number'].count()\n",
        "    dest_num = dest['Bus Number'].count()\n",
        "    ready_dict = {}\n",
        "    ready_dict = defaultdict(lambda: 0, ready_dict)\n",
        "    src_dict = {}\n",
        "    src_dict = defaultdict(lambda: 0, src_dict)\n",
        "\n",
        "    # temp_dict = {}\n",
        "    # temp_dict = defaultdict(lambda: 0, temp_dict)\n",
        "\n",
        "    for i in range(0,src_num):\n",
        "      temp2 = [x.strip() for x in src['Departure From Destination'][i].split(',')]\n",
        "      dist = [x.strip() for x in src['Distance'][i].split(' ')]\n",
        "      temp2.pop()\n",
        "      dist.pop()\n",
        "      distance = dist[0]\n",
        "      time_taken = src['Journey Time'][i]\n",
        "      if time_taken == \"Not available\":\n",
        "        time_taken = int(round(float(distance)/18 * 60,0))\n",
        "      for i in temp2:\n",
        "        precompute_and_queueing(i[:5],float(distance),max_km,charge_full_time,int(time_taken))\n",
        "\n",
        "    for i in range(0,dest_num):\n",
        "      temp2 = [x.strip() for x in dest['Departure From Source'][i].split(',')]\n",
        "      dist = [x.strip() for x in dest['Distance'][i].split(' ')]\n",
        "      temp2.pop()\n",
        "      dist.pop()\n",
        "      distance = dist[0]\n",
        "      time_taken = dest['Journey Time'][i]\n",
        "      if time_taken == \"Not available\":\n",
        "        time_taken = int(round(float(distance)/18 * 60,0))\n",
        "      for i in temp2:\n",
        "        precompute_and_queueing(i[:5],float(distance),max_km,charge_full_time,int(time_taken))\n",
        "    merged_list = sorted(merged_list, key=lambda x: x[0]*(charge_full_time+1)+x[1])\n",
        "    # print(merged_list)\n",
        "    wait_queue = []\n",
        "\n",
        "    while len(merged_list) != 0:\n",
        "      arr_time= merged_list[0][0]\n",
        "      charge_time = merged_list[0][1]\n",
        "      if(len(bus_queue) < queue_len):\n",
        "        # print(\"ji\")\n",
        "        del merged_list[0]\n",
        "        bus_queue.append(arr_time + charge_time)\n",
        "      else:\n",
        "        bus_queue.sort()\n",
        "        queue_top = bus_queue[0]\n",
        "        out_times.append(hour_to_str(queue_top))\n",
        "        bus_queue.pop(0)\n",
        "        while len(merged_list) != 0:\n",
        "          if(merged_list[0][0] >  queue_top):\n",
        "            break\n",
        "          wait_queue.append(merged_list[0])\n",
        "          del merged_list[0]\n",
        "\n",
        "        if len(wait_queue) != 0:\n",
        "          wait_queue.sort(key = lambda x: x[1])\n",
        "          bus_queue.append(queue_top  + wait_queue[0][1])\n",
        "          del wait_queue[0]\n",
        "          bus_queue.sort()\n",
        "\n",
        "    wait_queue.sort(key = lambda x: x[1])\n",
        "    for [itime, time_to_charge] in wait_queue:\n",
        "      # out_times.append(hour_to_str(itime+time_to_charge))\n",
        "      add_to_queue(itime, time_to_charge)\n",
        "\n",
        "    for bus in bus_queue:\n",
        "      out_times.append(hour_to_str(bus))\n",
        "\n",
        "    for tme in out_times:\n",
        "        ready_dict[\"{}\".format(tme)] += 1\n",
        "\n",
        "    ready_dict_final = OrderedDict(sorted(ready_dict.items()))\n",
        "\n",
        "    final_dict = {}\n",
        "    final_dict = defaultdict(lambda: 0, final_dict)\n",
        "    final_dict = ready_dict_final.copy()\n",
        "\n",
        "    for key,value in src_dict_final.items():\n",
        "      if key in final_dict.keys():\n",
        "        final_dict[key] -= value\n",
        "      else:\n",
        "        final_dict[key] = -1*value\n",
        "    final_dict_new = OrderedDict(sorted(final_dict.items()))\n",
        "    # final_dict_new\n",
        "    sum=0\n",
        "    for key, value in final_dict_new.items():\n",
        "      sum += value\n",
        "      final_dict_new[key]=sum\n",
        "    min_val = 0\n",
        "    for key, value in final_dict_new.items():\n",
        "      min_val = min(min_val,value)\n",
        "    end_val = final_dict_new[list(final_dict_new.keys())[-1]]\n",
        "\n",
        "    buses = (-1*min_val) - end_val\n",
        "    print(min_val, end_val)\n",
        "    # buses\n",
        "    depotToBuses[depot].append(buses)\n",
        "\n",
        "    listOfNumBuses.append(buses)\n",
        "    total_buses[queue_len] += buses\n",
        "\n",
        "  print(depot, end = ' - ')\n",
        "  print(listOfNumBuses[0], end = ' - ')\n",
        "  print(listOfNumBuses[1], end = ' - ')\n",
        "  print(listOfNumBuses[2], end = ' - ')\n",
        "  print(listOfNumBuses[3])"
      ]
    },
    {
      "cell_type": "code",
      "source": [
        "total_buses"
      ],
      "metadata": {
        "id": "Ug5f3zxRE_PA"
      },
      "execution_count": null,
      "outputs": []
    },
    {
      "cell_type": "code",
      "source": [
        "for depot in depot_name:\n",
        "\n",
        "  print(depotToBuses[depot][0], depotToBuses[depot][0])"
      ],
      "metadata": {
        "id": "_0G6fuqWHeeM"
      },
      "execution_count": null,
      "outputs": []
    },
    {
      "cell_type": "code",
      "source": [
        "df.to_excel('dict1.xlsx')"
      ],
      "metadata": {
        "id": "g3ndcAePIoTg"
      },
      "execution_count": null,
      "outputs": []
    },
    {
      "cell_type": "code",
      "execution_count": null,
      "metadata": {
        "id": "uwmYxi-8mSn5"
      },
      "outputs": [],
      "source": [
        "for key, value in final_dict_new.items():\n",
        "  final_dict_new[key] += buses\n",
        "df_final = pd.DataFrame({})\n",
        "df_final[\"Time\"] = final_dict_new.keys()\n",
        "df_final[\"Value\"] = final_dict_new.values()\n",
        "df_final.head()"
      ]
    },
    {
      "cell_type": "code",
      "execution_count": null,
      "metadata": {
        "id": "rxixmmyHmWmP"
      },
      "outputs": [],
      "source": [
        "plt.figure(figsize=(20,10))\n",
        "df_final.index = df_final[\"Time\"]\n",
        "df_final[\"Value\"].plot()"
      ]
    }
  ],
  "metadata": {
    "colab": {
      "provenance": []
    },
    "kernelspec": {
      "display_name": "Python 3.8.5 ('base')",
      "language": "python",
      "name": "python3"
    },
    "language_info": {
      "codemirror_mode": {
        "name": "ipython",
        "version": 3
      },
      "file_extension": ".py",
      "mimetype": "text/x-python",
      "name": "python",
      "nbconvert_exporter": "python",
      "pygments_lexer": "ipython3",
      "version": "3.8.5"
    },
    "vscode": {
      "interpreter": {
        "hash": "2b77996dd1268822dadaca11d379aadde417358f5dc7b43d83251ddde167ff75"
      }
    }
  },
  "nbformat": 4,
  "nbformat_minor": 0
}